{
 "cells": [
  {
   "cell_type": "code",
   "execution_count": null,
   "id": "50ebc977",
   "metadata": {
    "ExecuteTime": {
     "end_time": "2022-05-12T08:06:51.387038Z",
     "start_time": "2022-05-12T08:06:41.633112Z"
    }
   },
   "outputs": [],
   "source": [
    "import scanpy as sc\n",
    "import anndata as ad\n",
    "import squidpy as sq\n",
    "import numpy as np\n",
    "import pandas as pd\n",
    "import os\n",
    "from glob import glob\n",
    "import skmisc # install skmisc\n",
    "import harmonypy # install harmonypy\n",
    "import louvain # pip install leidenalg"
   ]
  },
  {
   "cell_type": "code",
   "execution_count": null,
   "id": "4e550b7b",
   "metadata": {
    "ExecuteTime": {
     "end_time": "2022-05-12T08:06:56.237023Z",
     "start_time": "2022-05-12T08:06:56.226000Z"
    }
   },
   "outputs": [],
   "source": [
    "# Get the list of all files and directories\n",
    "path = '/Users/nima.taherpour/Downloads/spaceranger-outs-data/'\n",
    "path_list = os.path.join(path,'*')\n",
    "data_list = sorted(glob(path_list))\n",
    "print(len(data_list))\n",
    "library__ids = ['/Users/nima.taherpour/Downloads/spaceranger-outs-data/Sample_158_D1/spatial/tissue_hires_image.png','/Users/nima.taherpour/Downloads/spaceranger-outs-data/Sample_159_C1/spatial/tissue_hires_image.png','/Users/nima.taherpour/Downloads/spaceranger-outs-data/Sample_304_A1/spatial/tissue_hires_image.png','/Users/nima.taherpour/Downloads/spaceranger-outs-data/Sample_304_C1/spatial/tissue_hires_image.png']\n",
    "print(len(library__ids))"
   ]
  },
  {
   "cell_type": "code",
   "execution_count": null,
   "id": "2b1f86e0",
   "metadata": {
    "ExecuteTime": {
     "end_time": "2022-05-12T08:07:05.157520Z",
     "start_time": "2022-05-12T08:06:58.476835Z"
    }
   },
   "outputs": [],
   "source": [
    "rr3brainobject =list()\n",
    "for i in range(0,len(data_list)):\n",
    "    ob = sc.read_visium(data_list[i],count_file='filtered_feature_bc_matrix.h5',library_id='lid',load_images = True)\n",
    "    ob.var_names_make_unique()\n",
    "    rr3brainobject.append(ob)\n",
    "    \n",
    "\n",
    "print(rr3brainobject)"
   ]
  },
  {
   "cell_type": "code",
   "execution_count": null,
   "id": "e483a2df",
   "metadata": {
    "ExecuteTime": {
     "end_time": "2022-05-12T08:07:08.629423Z",
     "start_time": "2022-05-12T08:07:08.584706Z"
    }
   },
   "outputs": [],
   "source": [
    "paths = ['/Users/nima.taherpour/Downloads/spaceranger-outs-data/Sample_158_D1/spatial/tissue_positions_list.csv','/Users/nima.taherpour/Downloads/spaceranger-outs-data/Sample_159_C1/spatial/tissue_positions_list.csv','/Users/nima.taherpour/Downloads/spaceranger-outs-data/Sample_304_A1/spatial/tissue_positions_list.csv','/Users/nima.taherpour/Downloads/spaceranger-outs-data/Sample_304_C1/spatial/tissue_positions_list.csv']\n",
    "full = list()\n",
    "for i in range(0,len(paths)):\n",
    "    ob = pd.read_csv(paths[i],names = ['barcode','in_tissue','array_row','array_col','pxl_row_in_fullres','pxl_col_in_fullres'])\n",
    "    ob = pd.DataFrame(ob)\n",
    "    ob = ob.loc[ob['in_tissue'] == 1]\n",
    "    ob.set_index('barcode',inplace = True)\n",
    "    full.append(ob)"
   ]
  },
  {
   "cell_type": "code",
   "execution_count": null,
   "id": "d5a0b3de",
   "metadata": {
    "ExecuteTime": {
     "end_time": "2022-05-12T08:07:13.944388Z",
     "start_time": "2022-05-12T08:07:13.451463Z"
    }
   },
   "outputs": [],
   "source": [
    "path2 = '/Users/nima.taherpour/Downloads/metadata_rr3brain.xlsx'\n",
    "brain_metadata = pd.read_excel(path2)\n",
    "print(brain_metadata)"
   ]
  },
  {
   "cell_type": "code",
   "execution_count": null,
   "id": "796aedda",
   "metadata": {
    "ExecuteTime": {
     "end_time": "2022-05-12T08:07:16.360644Z",
     "start_time": "2022-05-12T08:07:16.326065Z"
    }
   },
   "outputs": [],
   "source": [
    "rr3brainobjectup = rr3brainobject\n",
    "for i in range(0,len(brain_metadata)):\n",
    "    rr3brainobjectup[i].obs['section.name'] = brain_metadata['section.name'][i]\n",
    "    rr3brainobjectup[i].obs['sample_condition'] = brain_metadata['sample_condition'][i]\n",
    "    rr3brainobjectup[i].obs['mouse.id'] = brain_metadata['mouse.id'][i]\n",
    "    rr3brainobjectup[i].obs['pxl_row_in_fullres'] = full[i]['pxl_row_in_fullres']\n",
    "    rr3brainobjectup[i].obs['pxl_col_in_fullres'] = full[i]['pxl_col_in_fullres']"
   ]
  },
  {
   "cell_type": "code",
   "execution_count": null,
   "id": "fb62590c",
   "metadata": {
    "ExecuteTime": {
     "end_time": "2022-05-12T08:07:17.832307Z",
     "start_time": "2022-05-12T08:07:17.657466Z"
    }
   },
   "outputs": [],
   "source": [
    "rr3brainobjectrm = rr3brainobjectup\n",
    "for i in range(0,len(rr3brainobjectrm)):\n",
    "    rr3brainobjectrm[i].var['mt'] = rr3brainobjectrm[i].var_names.str.startswith('mt-')\n",
    "    rr3brainobjectrm[i].var['rb1'] = rr3brainobjectrm[i].var_names.str.startswith('Rps')\n",
    "    rr3brainobjectrm[i].var['rb2'] = rr3brainobjectrm[i].var_names.str.startswith('Rpl')\n",
    "    continue\n",
    "print(np.where(rr3brainobjectrm[3].var['mt'])[0])"
   ]
  },
  {
   "cell_type": "code",
   "execution_count": null,
   "id": "085103ca",
   "metadata": {
    "ExecuteTime": {
     "end_time": "2022-05-12T08:07:19.659539Z",
     "start_time": "2022-05-12T08:07:19.479234Z"
    }
   },
   "outputs": [],
   "source": [
    "mito_genes = list()\n",
    "rb1_genes = list()\n",
    "rb2_genes = list()\n",
    "for i in range(0,len(rr3brainobjectrm)):\n",
    "    ob1 = rr3brainobjectrm[i].var_names.str.startswith('mt-')\n",
    "    ob2 = rr3brainobjectrm[i].var_names.str.startswith('Rpl')\n",
    "    ob3 = rr3brainobjectrm[i].var_names.str.startswith('Rps')\n",
    "    mito_genes.append(ob1)\n",
    "    rb1_genes.append(ob2)\n",
    "    rb2_genes.append(ob3)\n",
    "print(len(np.where(mito_genes[2])[0]))\n",
    "print(len(np.where(rb1_genes[2])[0]))\n",
    "print(len(np.where(rb2_genes[2])[0]))"
   ]
  },
  {
   "cell_type": "code",
   "execution_count": null,
   "id": "3b00debe",
   "metadata": {
    "ExecuteTime": {
     "end_time": "2022-05-12T08:07:20.498936Z",
     "start_time": "2022-05-12T08:07:20.465910Z"
    }
   },
   "outputs": [],
   "source": [
    "for i in range(0,len(rr3brainobjectrm)):\n",
    "    mitoo_genes = mito_genes[i]\n",
    "    rbb1_genes = rb1_genes[i]\n",
    "    rbb2_genes = rb2_genes[i]\n",
    "    remove = np.add(rbb1_genes,mitoo_genes)\n",
    "    remove = np.add(remove,rbb2_genes)\n",
    "    keep = np.invert(remove)\n",
    "    rr3brainobjectrm[i] = rr3brainobjectrm[i][:,keep]\n",
    "print(rr3brainobjectrm)"
   ]
  },
  {
   "cell_type": "code",
   "execution_count": null,
   "id": "e4c0f482",
   "metadata": {
    "ExecuteTime": {
     "end_time": "2022-05-12T08:07:28.439220Z",
     "start_time": "2022-05-12T08:07:23.889739Z"
    }
   },
   "outputs": [],
   "source": [
    "rr3brainfiltered = rr3brainobjectrm\n",
    "for i in range(0,len(rr3brainfiltered)):\n",
    "    sc.pp.filter_cells(rr3brainfiltered[i], min_counts = 100)\n",
    "    sc.pp.filter_cells(rr3brainfiltered[i],min_genes = 200)\n",
    "    sc.pp.filter_genes(rr3brainfiltered[i],min_counts = 1)\n",
    "print(rr3brainfiltered)"
   ]
  },
  {
   "cell_type": "code",
   "execution_count": null,
   "id": "a7558525",
   "metadata": {
    "ExecuteTime": {
     "end_time": "2022-05-12T08:07:39.644077Z",
     "start_time": "2022-05-12T08:07:37.616524Z"
    }
   },
   "outputs": [],
   "source": [
    "Joined_rr3brain = ad.concat(rr3brainfiltered, axis = 0,join = 'outer')\n",
    "print(Joined_rr3brain)"
   ]
  },
  {
   "cell_type": "code",
   "execution_count": null,
   "id": "df41edc1",
   "metadata": {
    "ExecuteTime": {
     "end_time": "2022-05-03T11:54:53.489895Z",
     "start_time": "2022-05-03T11:54:53.484011Z"
    }
   },
   "outputs": [],
   "source": [
    "print(Joined_rr3brain)"
   ]
  },
  {
   "cell_type": "code",
   "execution_count": null,
   "id": "08e5b9f1",
   "metadata": {
    "ExecuteTime": {
     "end_time": "2022-05-12T08:12:20.452108Z",
     "start_time": "2022-05-12T08:07:44.093644Z"
    }
   },
   "outputs": [],
   "source": [
    "sc.pp.highly_variable_genes(Joined_rr3brain,n_top_genes = 3000, flavor = 'seurat_v3')\n",
    "sc.pp.regress_out(Joined_rr3brain,keys = 'n_genes')\n",
    "sc.pp.scale(Joined_rr3brain, max_value = 10)\n"
   ]
  },
  {
   "cell_type": "code",
   "execution_count": null,
   "id": "864c1f54",
   "metadata": {
    "ExecuteTime": {
     "end_time": "2022-05-12T08:16:39.085989Z",
     "start_time": "2022-05-12T08:16:38.901260Z"
    }
   },
   "outputs": [],
   "source": [
    "Joined_rr3brain = Joined_rr3brain[:, Joined_rr3brain.var.highly_variable]"
   ]
  },
  {
   "cell_type": "code",
   "execution_count": null,
   "id": "bc228611",
   "metadata": {
    "ExecuteTime": {
     "end_time": "2022-05-12T08:16:42.779366Z",
     "start_time": "2022-05-12T08:16:40.226198Z"
    }
   },
   "outputs": [],
   "source": [
    "sc.pp.pca(Joined_rr3brain,n_comps= 50,use_highly_variable = True)\n"
   ]
  },
  {
   "cell_type": "code",
   "execution_count": null,
   "id": "40f54977",
   "metadata": {
    "ExecuteTime": {
     "end_time": "2022-05-12T08:18:20.734175Z",
     "start_time": "2022-05-12T08:16:46.969178Z"
    }
   },
   "outputs": [],
   "source": [
    "sc.pp.neighbors(Joined_rr3brain,n_neighbors = 23, n_pcs = 30,knn = True, use_rep = 'X_pca')\n",
    "sc.tl.umap(Joined_rr3brain,min_dist = 0.30, n_components = 30) "
   ]
  },
  {
   "cell_type": "code",
   "execution_count": null,
   "id": "c006a039",
   "metadata": {
    "ExecuteTime": {
     "end_time": "2022-05-12T08:18:51.232607Z",
     "start_time": "2022-05-12T08:18:24.183788Z"
    }
   },
   "outputs": [],
   "source": [
    "sc.external.pp.harmony_integrate(Joined_rr3brain, key = ['sample_condition','section.name'])"
   ]
  },
  {
   "cell_type": "code",
   "execution_count": null,
   "id": "dabdb8ba",
   "metadata": {
    "ExecuteTime": {
     "end_time": "2022-05-12T08:19:47.788076Z",
     "start_time": "2022-05-12T08:18:56.135029Z"
    }
   },
   "outputs": [],
   "source": [
    "sc.pp.neighbors(Joined_rr3brain,n_neighbors = 23, n_pcs = 30,knn = True, use_rep = 'X_pca_harmony',key_added = 'neighborsafterharmony')\n",
    "sc.tl.louvain(Joined_rr3brain,resolution = 0.60, neighbors_key = 'neighborsafterharmony')\n",
    "sc.tl.umap(Joined_rr3brain,min_dist = 0.30, n_components = 30, neighbors_key = 'neighborsafterharmony')"
   ]
  },
  {
   "cell_type": "code",
   "execution_count": null,
   "id": "3da67115",
   "metadata": {
    "ExecuteTime": {
     "end_time": "2022-05-12T08:19:59.173060Z",
     "start_time": "2022-05-12T08:19:58.668405Z"
    }
   },
   "outputs": [],
   "source": [
    "plotUMAP = sc.pl.umap(Joined_rr3brain,color = 'louvain')\n",
    "print(plotUMAP)"
   ]
  },
  {
   "cell_type": "code",
   "execution_count": null,
   "id": "0dea93c1",
   "metadata": {
    "ExecuteTime": {
     "end_time": "2022-05-12T08:20:27.796049Z",
     "start_time": "2022-05-12T08:20:20.725942Z"
    }
   },
   "outputs": [],
   "source": [
    "\n",
    "sc.tl.rank_genes_groups(Joined_rr3brain,groupby = 'louvain', groups = 'all', reference = 'rest',key_added = 'cluster_markers', method = 'wilcoxon',corr_method = 'benjamini-hochberg')\n",
    "    "
   ]
  },
  {
   "cell_type": "code",
   "execution_count": null,
   "id": "e223bf13",
   "metadata": {
    "ExecuteTime": {
     "end_time": "2022-05-12T08:20:58.526291Z",
     "start_time": "2022-05-12T08:20:54.938085Z"
    }
   },
   "outputs": [],
   "source": [
    "\n",
    "sc.tl.rank_genes_groups(Joined_rr3brain,groupby = 'sample_condition', groups = 'all', reference = 'rest',key_added = 'flightvsground', method = 'wilcoxon' ,corr_method = 'benjamini-hochberg')"
   ]
  },
  {
   "cell_type": "code",
   "execution_count": null,
   "id": "86ad463b",
   "metadata": {
    "ExecuteTime": {
     "end_time": "2022-05-12T08:21:07.335764Z",
     "start_time": "2022-05-12T08:21:07.199582Z"
    }
   },
   "outputs": [],
   "source": [
    "\n",
    "flight_markers = sc.get.rank_genes_groups_df(Joined_rr3brain,group = 'flight',key = 'flightvsground', pval_cutoff = 0.05, log2fc_min = -10, log2fc_max = 10)\n",
    "print(flight_markers)"
   ]
  },
  {
   "cell_type": "code",
   "execution_count": null,
   "id": "e375b99b",
   "metadata": {
    "ExecuteTime": {
     "end_time": "2022-05-12T09:15:51.789489Z",
     "start_time": "2022-05-12T09:15:51.382765Z"
    }
   },
   "outputs": [],
   "source": [
    "\n",
    "flight_markersinc = flight_markers.drop(flight_markers[(flight_markers.logfoldchanges < 0)].index)\n",
    "flight_markersred = flight_markers.drop(flight_markers[(flight_markers.logfoldchanges > 0)].index)\n",
    "flight_markersinc.head()"
   ]
  },
  {
   "cell_type": "code",
   "execution_count": null,
   "id": "4a01aa21",
   "metadata": {
    "ExecuteTime": {
     "end_time": "2022-05-12T08:24:54.017642Z",
     "start_time": "2022-05-12T08:24:53.975250Z"
    }
   },
   "outputs": [],
   "source": [
    "path2 = '/Users/nima.taherpour/Downloads/genes.zip (Unzipped Files)/genes/updated_hearts_brains_INC_genes_only.csv'\n",
    "path3 =  '/Users/nima.taherpour/Downloads/genes.zip (Unzipped Files)/genes/updated_hearts_brains_RED_genes_only.csv'\n",
    "incgenes = pd.read_csv(path2)\n",
    "redgenes = pd.read_csv(path3)\n",
    "print(incgenes)"
   ]
  },
  {
   "cell_type": "code",
   "execution_count": null,
   "id": "6c1bab0d",
   "metadata": {
    "ExecuteTime": {
     "end_time": "2022-05-12T09:18:43.788315Z",
     "start_time": "2022-05-12T09:18:43.476709Z"
    }
   },
   "outputs": [],
   "source": [
    "overlap= pd.merge(flight_markersinc,incgenes, how = 'inner', left_on='names', right_on = 'x')\n",
    "print(overlap)"
   ]
  },
  {
   "cell_type": "code",
   "execution_count": null,
   "id": "c242041c",
   "metadata": {
    "ExecuteTime": {
     "end_time": "2022-05-12T08:25:06.004131Z",
     "start_time": "2022-05-12T08:25:05.958095Z"
    }
   },
   "outputs": [],
   "source": [
    "overlap1= pd.merge(flight_markersred,redgenes, how = 'inner', left_on='names', right_on = 'x')\n",
    "print(overlap1)"
   ]
  }
 ],
 "metadata": {
  "kernelspec": {
   "display_name": "Python 3 (ipykernel)",
   "language": "python",
   "name": "python3"
  },
  "language_info": {
   "codemirror_mode": {
    "name": "ipython",
    "version": 3
   },
   "file_extension": ".py",
   "mimetype": "text/x-python",
   "name": "python",
   "nbconvert_exporter": "python",
   "pygments_lexer": "ipython3",
   "version": "3.9.7"
  }
 },
 "nbformat": 4,
 "nbformat_minor": 5
}
